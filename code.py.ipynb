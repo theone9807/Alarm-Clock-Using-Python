{
 "cells": [
  {
   "cell_type": "code",
   "execution_count": 16,
   "metadata": {},
   "outputs": [],
   "source": [
    "#this module are pre installed with python\n",
    "import winsound, time, os, platform"
   ]
  },
  {
   "cell_type": "code",
   "execution_count": 17,
   "metadata": {},
   "outputs": [
    {
     "name": "stdout",
     "output_type": "stream",
     "text": [
      "Enter Hours: 0\n",
      "Enter Minute: 0\n",
      "Enter Second: 6\n"
     ]
    }
   ],
   "source": [
    "def user_input():\n",
    "    \"\"\"taking user input\"\"\"\n",
    "    hour = int(input('Enter Hours: '))\n",
    "    minute = int(input('Enter Minute: '))\n",
    "    sec = int(input('Enter Second: '))\n",
    "    wait_time = (hour*60*60) + (minute*60) + (sec)\n",
    "    time.sleep(wait_time)\n",
    "    for i in range(5):                # Number of repeats\n",
    "        for j in range(9):            # Number of beeps\n",
    "            winsound.MessageBeep(-1)  # Sound played  -1 for default window sound\n",
    "        time.sleep(1)                 # How long between beeps\n",
    "user_input() #run runction"
   ]
  },
  {
   "cell_type": "code",
   "execution_count": null,
   "metadata": {},
   "outputs": [],
   "source": []
  }
 ],
 "metadata": {
  "kernelspec": {
   "display_name": "Python 3",
   "language": "python",
   "name": "python3"
  },
  "language_info": {
   "codemirror_mode": {
    "name": "ipython",
    "version": 3
   },
   "file_extension": ".py",
   "mimetype": "text/x-python",
   "name": "python",
   "nbconvert_exporter": "python",
   "pygments_lexer": "ipython3",
   "version": "3.6.6"
  }
 },
 "nbformat": 4,
 "nbformat_minor": 2
}
